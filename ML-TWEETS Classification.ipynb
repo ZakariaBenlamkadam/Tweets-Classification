{
 "cells": [
  {
   "cell_type": "code",
   "execution_count": 34,
   "id": "292f8bf5",
   "metadata": {},
   "outputs": [],
   "source": [
    "import pandas as pd"
   ]
  },
  {
   "cell_type": "code",
   "execution_count": 35,
   "id": "b5b3c92c",
   "metadata": {},
   "outputs": [],
   "source": [
    "df = pd.read_csv(\"train.csv\")"
   ]
  },
  {
   "cell_type": "markdown",
   "id": "fa1934bc",
   "metadata": {},
   "source": [
    "## Import  libraries"
   ]
  },
  {
   "cell_type": "code",
   "execution_count": 37,
   "id": "b31628f4",
   "metadata": {},
   "outputs": [
    {
     "name": "stderr",
     "output_type": "stream",
     "text": [
      "[nltk_data] Downloading package stopwords to\n",
      "[nltk_data]     C:\\Users\\pc\\AppData\\Roaming\\nltk_data...\n",
      "[nltk_data]   Package stopwords is already up-to-date!\n",
      "[nltk_data] Downloading package wordnet to\n",
      "[nltk_data]     C:\\Users\\pc\\AppData\\Roaming\\nltk_data...\n",
      "[nltk_data]   Package wordnet is already up-to-date!\n"
     ]
    },
    {
     "data": {
      "text/plain": [
       "True"
      ]
     },
     "execution_count": 37,
     "metadata": {},
     "output_type": "execute_result"
    }
   ],
   "source": [
    "import pandas as pd\n",
    "import numpy as np\n",
    "import matplotlib.pyplot as plt\n",
    "import seaborn as sns\n",
    "import re\n",
    "import nltk\n",
    "from nltk.corpus import stopwords\n",
    "from nltk.stem import WordNetLemmatizer\n",
    "from sklearn.feature_extraction.text import TfidfVectorizer\n",
    "from sklearn.model_selection import train_test_split\n",
    "from sklearn.metrics import accuracy_score, classification_report, confusion_matrix\n",
    "from sklearn.naive_bayes import MultinomialNB\n",
    "from wordcloud import STOPWORDS\n",
    "\n",
    "# NLTK resources \n",
    "nltk.download('stopwords')\n",
    "nltk.download('wordnet')"
   ]
  },
  {
   "cell_type": "code",
   "execution_count": 38,
   "id": "ba774855",
   "metadata": {},
   "outputs": [],
   "source": [
    "train_data = pd.read_csv('train.csv')\n",
    "test_data = pd.read_csv('test.csv')"
   ]
  },
  {
   "cell_type": "markdown",
   "id": "57206a1d",
   "metadata": {},
   "source": [
    "## Data exploration & preprocessing\n"
   ]
  },
  {
   "cell_type": "code",
   "execution_count": 40,
   "id": "b1e02a31",
   "metadata": {},
   "outputs": [
    {
     "name": "stdout",
     "output_type": "stream",
     "text": [
      "(6525, 3)\n",
      "(2610, 2)\n"
     ]
    }
   ],
   "source": [
    "print(train_data.shape)\n",
    "print(test_data.shape)"
   ]
  },
  {
   "cell_type": "code",
   "execution_count": 41,
   "id": "f2b7adaa",
   "metadata": {},
   "outputs": [
    {
     "data": {
      "text/plain": [
       "TweetId       int64\n",
       "Label        object\n",
       "TweetText    object\n",
       "dtype: object"
      ]
     },
     "execution_count": 41,
     "metadata": {},
     "output_type": "execute_result"
    }
   ],
   "source": [
    "train_data.dtypes"
   ]
  },
  {
   "cell_type": "code",
   "execution_count": 42,
   "id": "28fca776",
   "metadata": {},
   "outputs": [
    {
     "data": {
      "text/plain": [
       "TweetId      0\n",
       "Label        0\n",
       "TweetText    0\n",
       "dtype: int64"
      ]
     },
     "execution_count": 42,
     "metadata": {},
     "output_type": "execute_result"
    }
   ],
   "source": [
    "train_data.isnull().sum()"
   ]
  },
  {
   "cell_type": "code",
   "execution_count": 43,
   "id": "24243815",
   "metadata": {},
   "outputs": [
    {
     "data": {
      "text/plain": [
       "Sports      3325\n",
       "Politics    3200\n",
       "Name: Label, dtype: int64"
      ]
     },
     "execution_count": 43,
     "metadata": {},
     "output_type": "execute_result"
    }
   ],
   "source": [
    "train_data['Label'].value_counts()"
   ]
  },
  {
   "cell_type": "code",
   "execution_count": 44,
   "id": "cbc48694",
   "metadata": {},
   "outputs": [],
   "source": [
    "min_sample = 3200\n",
    "data_Sports = train_data[train_data['Label'] == 'Sports'].sample(min_sample, random_state = 120)\n",
    "data_Politics = train_data[train_data['Label'] == 'Politics'].sample(min_sample,  random_state= 120)"
   ]
  },
  {
   "cell_type": "code",
   "execution_count": 45,
   "id": "30fcdd63",
   "metadata": {},
   "outputs": [],
   "source": [
    "balanced_data = pd.concat((data_Sports, data_Politics), axis=0)"
   ]
  },
  {
   "cell_type": "code",
   "execution_count": 46,
   "id": "2f0b37a1",
   "metadata": {},
   "outputs": [
    {
     "data": {
      "text/html": [
       "<div>\n",
       "<style scoped>\n",
       "    .dataframe tbody tr th:only-of-type {\n",
       "        vertical-align: middle;\n",
       "    }\n",
       "\n",
       "    .dataframe tbody tr th {\n",
       "        vertical-align: top;\n",
       "    }\n",
       "\n",
       "    .dataframe thead th {\n",
       "        text-align: right;\n",
       "    }\n",
       "</style>\n",
       "<table border=\"1\" class=\"dataframe\">\n",
       "  <thead>\n",
       "    <tr style=\"text-align: right;\">\n",
       "      <th></th>\n",
       "      <th>TweetId</th>\n",
       "      <th>Label</th>\n",
       "      <th>TweetText</th>\n",
       "    </tr>\n",
       "  </thead>\n",
       "  <tbody>\n",
       "    <tr>\n",
       "      <th>774</th>\n",
       "      <td>305127066121150464</td>\n",
       "      <td>Sports</td>\n",
       "      <td>'And now @JimmyAnderson9 gets in on the act, h...</td>\n",
       "    </tr>\n",
       "    <tr>\n",
       "      <th>4267</th>\n",
       "      <td>304301722908639232</td>\n",
       "      <td>Sports</td>\n",
       "      <td>'Superb footwork and finish inside the box fro...</td>\n",
       "    </tr>\n",
       "    <tr>\n",
       "      <th>4150</th>\n",
       "      <td>305373299234439168</td>\n",
       "      <td>Sports</td>\n",
       "      <td>'Will any team come close to challenging South...</td>\n",
       "    </tr>\n",
       "    <tr>\n",
       "      <th>2240</th>\n",
       "      <td>24141368869</td>\n",
       "      <td>Sports</td>\n",
       "      <td>'Wigan vs Sunderland: Gyan is expected to make...</td>\n",
       "    </tr>\n",
       "    <tr>\n",
       "      <th>2304</th>\n",
       "      <td>299387985156243457</td>\n",
       "      <td>Sports</td>\n",
       "      <td>'This day 14 years ago Anil Kumble became only...</td>\n",
       "    </tr>\n",
       "    <tr>\n",
       "      <th>...</th>\n",
       "      <td>...</td>\n",
       "      <td>...</td>\n",
       "      <td>...</td>\n",
       "    </tr>\n",
       "    <tr>\n",
       "      <th>1076</th>\n",
       "      <td>278856794644807680</td>\n",
       "      <td>Politics</td>\n",
       "      <td>'On immigration policy: It is necessary to dev...</td>\n",
       "    </tr>\n",
       "    <tr>\n",
       "      <th>24</th>\n",
       "      <td>266080403209740288</td>\n",
       "      <td>Politics</td>\n",
       "      <td>President Obama says he'll work with Mitt Romn...</td>\n",
       "    </tr>\n",
       "    <tr>\n",
       "      <th>1464</th>\n",
       "      <td>293241392724054017</td>\n",
       "      <td>Politics</td>\n",
       "      <td>A 'Ticket to Bollywood ' in Moscow http://t.co...</td>\n",
       "    </tr>\n",
       "    <tr>\n",
       "      <th>2386</th>\n",
       "      <td>305715482667937793</td>\n",
       "      <td>Politics</td>\n",
       "      <td>'@PSmith93 thanks for watching'</td>\n",
       "    </tr>\n",
       "    <tr>\n",
       "      <th>3700</th>\n",
       "      <td>257510060018761728</td>\n",
       "      <td>Politics</td>\n",
       "      <td>'We can\\u2019t keep spending money we don\\u201...</td>\n",
       "    </tr>\n",
       "  </tbody>\n",
       "</table>\n",
       "<p>6400 rows × 3 columns</p>\n",
       "</div>"
      ],
      "text/plain": [
       "                 TweetId     Label                                          TweetText\n",
       "774   305127066121150464    Sports  'And now @JimmyAnderson9 gets in on the act, h...\n",
       "4267  304301722908639232    Sports  'Superb footwork and finish inside the box fro...\n",
       "4150  305373299234439168    Sports  'Will any team come close to challenging South...\n",
       "2240         24141368869    Sports  'Wigan vs Sunderland: Gyan is expected to make...\n",
       "2304  299387985156243457    Sports  'This day 14 years ago Anil Kumble became only...\n",
       "...                  ...       ...                                                ...\n",
       "1076  278856794644807680  Politics  'On immigration policy: It is necessary to dev...\n",
       "24    266080403209740288  Politics  President Obama says he'll work with Mitt Romn...\n",
       "1464  293241392724054017  Politics  A 'Ticket to Bollywood ' in Moscow http://t.co...\n",
       "2386  305715482667937793  Politics                    '@PSmith93 thanks for watching'\n",
       "3700  257510060018761728  Politics  'We can\\u2019t keep spending money we don\\u201...\n",
       "\n",
       "[6400 rows x 3 columns]"
      ]
     },
     "execution_count": 46,
     "metadata": {},
     "output_type": "execute_result"
    }
   ],
   "source": [
    "balanced_data"
   ]
  },
  {
   "cell_type": "code",
   "execution_count": 47,
   "id": "80a8dc82",
   "metadata": {},
   "outputs": [],
   "source": [
    "balanced_data['Label'] = balanced_data['Label'].map({\n",
    "    'Sports': 0,\n",
    "    'Politics': 1\n",
    "})"
   ]
  },
  {
   "cell_type": "code",
   "execution_count": 48,
   "id": "e29599a6",
   "metadata": {},
   "outputs": [],
   "source": [
    "import re\n",
    "import spacy\n",
    "from nltk.stem import PorterStemmer\n",
    "\n",
    "# Load spaCy English model\n",
    "nlp = spacy.load(\"en_core_web_sm\")\n",
    "\n",
    "def PreprocessingTweet(text):\n",
    "    # Remove mentions\n",
    "    text = re.sub(r'[@]', '', text)\n",
    "    # Decode HTML entities\n",
    "    text = text.encode().decode('unicode_escape')\n",
    "    # Convert text to lowercase and strip leading/trailing whitespace\n",
    "    text = text.strip().lower()\n",
    "    # Tokenize the text using spaCy\n",
    "    doc = nlp(text)\n",
    "    # Initialize an empty list to store filtered tokens\n",
    "    filtered_text = []\n",
    "    # Initialize a stemmer (Porter stemmer)\n",
    "    stemmer = PorterStemmer()\n",
    "    # Iterate through tokens in the document\n",
    "    for token in doc:\n",
    "        # Check if token is a stop word, punctuation, or URL-like\n",
    "        if token.is_stop or token.is_punct or token.like_url:\n",
    "            continue\n",
    "        # Lemmatize the token\n",
    "        lemma = token.lemma_\n",
    "        # Stem the token\n",
    "        stemmed = stemmer.stem(token.text)\n",
    "        # Append the lemma if it's different from the original token, otherwise append the stemmed token\n",
    "        filtered_text.append(lemma if lemma != token.text else stemmed)\n",
    "    # Join the filtered tokens back into a string\n",
    "    return \" \".join(filtered_text)\n"
   ]
  },
  {
   "cell_type": "code",
   "execution_count": 50,
   "id": "da7f410e",
   "metadata": {},
   "outputs": [],
   "source": [
    "# Apply the preprocessing function to each tweet text in the 'TweetText' column\n",
    "balanced_data['Prepro_TweetText'] = balanced_data['TweetText'].apply(PreprocessingTweet)"
   ]
  },
  {
   "cell_type": "code",
   "execution_count": 52,
   "id": "26bfaf0c",
   "metadata": {},
   "outputs": [],
   "source": [
    "X = balanced_data['Prepro_TweetText']\n",
    "y = balanced_data['Label']"
   ]
  },
  {
   "cell_type": "code",
   "execution_count": 53,
   "id": "0e2612b9",
   "metadata": {},
   "outputs": [],
   "source": [
    "X_train, X_test, y_train, y_test = train_test_split(X,y, test_size=0.2, \n",
    "                                   random_state=120, stratify= balanced_data.Label)"
   ]
  },
  {
   "cell_type": "code",
   "execution_count": 54,
   "id": "2c268395",
   "metadata": {},
   "outputs": [
    {
     "data": {
      "text/plain": [
       "1    2560\n",
       "0    2560\n",
       "Name: Label, dtype: int64"
      ]
     },
     "execution_count": 54,
     "metadata": {},
     "output_type": "execute_result"
    }
   ],
   "source": [
    "y_train.value_counts()"
   ]
  },
  {
   "cell_type": "markdown",
   "id": "3ef4527f",
   "metadata": {},
   "source": [
    "## Features extraction & Model training"
   ]
  },
  {
   "cell_type": "markdown",
   "id": "80f1f9d3",
   "metadata": {},
   "source": [
    "1. Naive bayes model"
   ]
  },
  {
   "cell_type": "code",
   "execution_count": 55,
   "id": "1aa74c1f",
   "metadata": {},
   "outputs": [
    {
     "data": {
      "text/plain": [
       "'              precision    recall  f1-score   support\\n\\n           0       0.97      0.97      0.97       640\\n           1       0.97      0.97      0.97       640\\n\\n    accuracy                           0.97      1280\\n   macro avg       0.97      0.97      0.97      1280\\nweighted avg       0.97      0.97      0.97      1280\\n'"
      ]
     },
     "execution_count": 55,
     "metadata": {},
     "output_type": "execute_result"
    }
   ],
   "source": [
    "from sklearn.pipeline import Pipeline\n",
    "from sklearn.feature_extraction.text import CountVectorizer\n",
    "\n",
    "MultinomialNB_model = Pipeline([\n",
    "    ('bag_word', CountVectorizer(ngram_range=(1,2))),\n",
    "    ('model', MultinomialNB())\n",
    "])\n",
    "\n",
    "MultinomialNB_model.fit(X_train, y_train)\n",
    "\n",
    "y_pred = MultinomialNB_model.predict(X_test)\n",
    "\n",
    "classification_report(y_pred, y_test)"
   ]
  },
  {
   "cell_type": "markdown",
   "id": "79c53836",
   "metadata": {},
   "source": [
    "2. Random Forest"
   ]
  },
  {
   "cell_type": "code",
   "execution_count": 56,
   "id": "43c4610a",
   "metadata": {},
   "outputs": [
    {
     "name": "stdout",
     "output_type": "stream",
     "text": [
      "              precision    recall  f1-score   support\n",
      "\n",
      "           0       0.96      0.91      0.93       678\n",
      "           1       0.90      0.96      0.93       602\n",
      "\n",
      "    accuracy                           0.93      1280\n",
      "   macro avg       0.93      0.93      0.93      1280\n",
      "weighted avg       0.93      0.93      0.93      1280\n",
      "\n"
     ]
    }
   ],
   "source": [
    "from sklearn.ensemble import RandomForestClassifier\n",
    "\n",
    "RFC_model = Pipeline([\n",
    "    ('bag_word', CountVectorizer(ngram_range=(1,2))),\n",
    "    ('model', RandomForestClassifier())\n",
    "])\n",
    "\n",
    "RFC_model.fit(X_train, y_train)\n",
    "y_pred = RFC_model.predict(X_test)\n",
    "print(classification_report(y_pred,y_test))"
   ]
  },
  {
   "cell_type": "markdown",
   "id": "d87c7e33",
   "metadata": {},
   "source": [
    "3. Logistic Regression"
   ]
  },
  {
   "cell_type": "code",
   "execution_count": 57,
   "id": "e086fad8",
   "metadata": {},
   "outputs": [
    {
     "name": "stdout",
     "output_type": "stream",
     "text": [
      "              precision    recall  f1-score   support\n",
      "\n",
      "           0       0.94      0.96      0.95       640\n",
      "           1       0.96      0.93      0.95       640\n",
      "\n",
      "    accuracy                           0.95      1280\n",
      "   macro avg       0.95      0.95      0.95      1280\n",
      "weighted avg       0.95      0.95      0.95      1280\n",
      "\n"
     ]
    }
   ],
   "source": [
    "from sklearn.linear_model import LogisticRegression\n",
    "LR_model = Pipeline([\n",
    "    ('bag_word' , CountVectorizer(ngram_range=(1,2))),\n",
    "    ('LR' , LogisticRegression())\n",
    "    \n",
    "])\n",
    "LR_model.fit(X_train, y_train)\n",
    "y_pred = LR_model.predict(X_test)\n",
    "print(classification_report(y_test, y_pred))"
   ]
  },
  {
   "cell_type": "markdown",
   "id": "7cae02f7",
   "metadata": {},
   "source": [
    "4. SVM"
   ]
  },
  {
   "cell_type": "code",
   "execution_count": 58,
   "id": "f19d58a1",
   "metadata": {},
   "outputs": [
    {
     "name": "stdout",
     "output_type": "stream",
     "text": [
      "              precision    recall  f1-score   support\n",
      "\n",
      "           0       0.89      0.97      0.93       640\n",
      "           1       0.97      0.88      0.92       640\n",
      "\n",
      "    accuracy                           0.93      1280\n",
      "   macro avg       0.93      0.93      0.93      1280\n",
      "weighted avg       0.93      0.93      0.93      1280\n",
      "\n"
     ]
    }
   ],
   "source": [
    "from sklearn.svm import SVC\n",
    "SVC_model = Pipeline([\n",
    "    ('bag_word' , CountVectorizer(ngram_range=(1,2))),\n",
    "    ('SVC' , SVC())\n",
    "    \n",
    "])\n",
    "SVC_model.fit(X_train, y_train)\n",
    "y_pred = SVC_model.predict(X_test)\n",
    "print(classification_report(y_test, y_pred))"
   ]
  },
  {
   "cell_type": "code",
   "execution_count": 59,
   "id": "c231c031",
   "metadata": {},
   "outputs": [],
   "source": [
    "# Make predictions for each algorithm\n",
    "y_pred_NB = MultinomialNB_model.predict(X_test)  # Predictions for Multinomial Naive Bayes\n",
    "y_pred_RF = RFC_model.predict(X_test)           # Predictions for Random Forest\n",
    "y_pred_LR = LR_model.predict(X_test)            # Predictions for Logistic Regression\n",
    "y_pred_SVC = SVC_model.predict(X_test)          # Predictions for Support Vector Classification\n"
   ]
  },
  {
   "cell_type": "code",
   "execution_count": 60,
   "id": "10924401",
   "metadata": {
    "scrolled": false
   },
   "outputs": [
    {
     "data": {
      "image/png": "[encoded data removed]",
      "text/plain": [
       "<Figure size 800x600 with 2 Axes>"
      ]
     },
     "metadata": {},
     "output_type": "display_data"
    },
    {
     "data": {
      "image/png": "[encoded data removed]",
      "text/plain": [
       "<Figure size 800x600 with 2 Axes>"
      ]
     },
     "metadata": {},
     "output_type": "display_data"
    },
    {
     "data": {
      "image/png": "[encoded data removed]",
      "text/plain": [
       "<Figure size 800x600 with 2 Axes>"
      ]
     },
     "metadata": {},
     "output_type": "display_data"
    },
    {
     "data": {
      "image/png": "[encoded data removed]",
      "text/plain": [
       "<Figure size 800x600 with 2 Axes>"
      ]
     },
     "metadata": {},
     "output_type": "display_data"
    }
   ],
   "source": [
    "from sklearn.metrics import confusion_matrix\n",
    "import seaborn as sns\n",
    "import matplotlib.pyplot as plt\n",
    "\n",
    "# Define a function to plot confusion matrix\n",
    "def plot_confusion_matrix(y_true, y_pred, title):\n",
    "    cm = confusion_matrix(y_true, y_pred)\n",
    "    plt.figure(figsize=(8, 6))\n",
    "    sns.heatmap(cm, annot=True, fmt=\"d\", cmap=\"Blues\", xticklabels=['Politics', 'Sports'], yticklabels=['Politics', 'Sports'])\n",
    "    plt.xlabel('Predicted')\n",
    "    plt.ylabel('Actual')\n",
    "    plt.title(title)\n",
    "    plt.show()\n",
    "\n",
    "# Plot confusion matrix for Multinomial Naive Bayes\n",
    "plot_confusion_matrix(y_test, y_pred_NB, 'Confusion Matrix - Multinomial Naive Bayes')\n",
    "\n",
    "# Plot confusion matrix for Random Forest\n",
    "plot_confusion_matrix(y_test, y_pred_RF, 'Confusion Matrix - Random Forest')\n",
    "\n",
    "# Plot confusion matrix for Logistic Regression\n",
    "plot_confusion_matrix(y_test, y_pred_LR, 'Confusion Matrix - Logistic Regression')\n",
    "\n",
    "# Plot confusion matrix for Support Vector Classification\n",
    "plot_confusion_matrix(y_test, y_pred_SVC, 'Confusion Matrix - Support Vector Classification')\n"
   ]
  },
  {
   "cell_type": "markdown",
   "id": "b69d66c9",
   "metadata": {},
   "source": [
    "## Hyper-parameter Tuning"
   ]
  },
  {
   "cell_type": "code",
   "execution_count": 71,
   "id": "43d87358",
   "metadata": {},
   "outputs": [
    {
     "name": "stdout",
     "output_type": "stream",
     "text": [
      "Best Hyperparameters: {'max_depth': None, 'min_samples_split': 5, 'n_estimators': 100}\n",
      "Accuracy: 0.9265625\n"
     ]
    }
   ],
   "source": [
    "from sklearn.feature_extraction.text import TfidfVectorizer\n",
    "from sklearn.ensemble import RandomForestClassifier\n",
    "from sklearn.model_selection import GridSearchCV\n",
    "\n",
    "# Preprocess text data\n",
    "vectorizer = TfidfVectorizer()  # You can customize options here\n",
    "X_train_tfidf = vectorizer.fit_transform(X_train)\n",
    "X_test_tfidf = vectorizer.transform(X_test)\n",
    "\n",
    "# Define hyperparameter grid\n",
    "param_grid = {\n",
    "    'n_estimators': [100, 200, 300],\n",
    "    'max_depth': [None, 5, 10],\n",
    "    'min_samples_split': [2, 5, 10],\n",
    "    # Add other hyperparameters here\n",
    "}\n",
    "\n",
    "# Create GridSearchCV object\n",
    "grid_search = GridSearchCV(RandomForestClassifier(), param_grid, cv=5, scoring='accuracy')\n",
    "\n",
    "# Perform grid search\n",
    "grid_search.fit(X_train_tfidf, y_train)\n",
    "\n",
    "# Get best hyperparameters\n",
    "best_params = grid_search.best_params_\n",
    "\n",
    "# Evaluate model with best hyperparameters\n",
    "best_model = grid_search.best_estimator_\n",
    "accuracy = best_model.score(X_test_tfidf, y_test)\n",
    "print(\"Best Hyperparameters:\", best_params)\n",
    "print(\"Accuracy:\", accuracy)\n"
   ]
  },
  {
   "cell_type": "code",
   "execution_count": 72,
   "id": "0427c8c8",
   "metadata": {},
   "outputs": [
    {
     "data": {
      "text/html": [
       "<div>\n",
       "<style scoped>\n",
       "    .dataframe tbody tr th:only-of-type {\n",
       "        vertical-align: middle;\n",
       "    }\n",
       "\n",
       "    .dataframe tbody tr th {\n",
       "        vertical-align: top;\n",
       "    }\n",
       "\n",
       "    .dataframe thead th {\n",
       "        text-align: right;\n",
       "    }\n",
       "</style>\n",
       "<table border=\"1\" class=\"dataframe\">\n",
       "  <thead>\n",
       "    <tr style=\"text-align: right;\">\n",
       "      <th></th>\n",
       "      <th>TweetText</th>\n",
       "      <th>Label</th>\n",
       "    </tr>\n",
       "  </thead>\n",
       "  <tbody>\n",
       "    <tr>\n",
       "      <th>0</th>\n",
       "      <td>'28. The home side threaten again through Maso...</td>\n",
       "      <td>0</td>\n",
       "    </tr>\n",
       "    <tr>\n",
       "      <th>1</th>\n",
       "      <td>'@mrbrown @aulia Thx for asking. See http://t....</td>\n",
       "      <td>1</td>\n",
       "    </tr>\n",
       "    <tr>\n",
       "      <th>2</th>\n",
       "      <td>'@Sochi2014 construction along the shores of t...</td>\n",
       "      <td>1</td>\n",
       "    </tr>\n",
       "    <tr>\n",
       "      <th>3</th>\n",
       "      <td>'#SecKerry\\u2019s remarks after meeting with F...</td>\n",
       "      <td>1</td>\n",
       "    </tr>\n",
       "    <tr>\n",
       "      <th>4</th>\n",
       "      <td>'The #IPLauction has begun. Ricky Ponting is t...</td>\n",
       "      <td>0</td>\n",
       "    </tr>\n",
       "    <tr>\n",
       "      <th>...</th>\n",
       "      <td>...</td>\n",
       "      <td>...</td>\n",
       "    </tr>\n",
       "    <tr>\n",
       "      <th>2605</th>\n",
       "      <td>'Qualifier 1 and Eliminator games will be play...</td>\n",
       "      <td>0</td>\n",
       "    </tr>\n",
       "    <tr>\n",
       "      <th>2606</th>\n",
       "      <td>@reesedward Hi Edward, it's not a #peacekeepin...</td>\n",
       "      <td>0</td>\n",
       "    </tr>\n",
       "    <tr>\n",
       "      <th>2607</th>\n",
       "      <td>'Perera was @SunRisersIPL first #IPL purchase ...</td>\n",
       "      <td>0</td>\n",
       "    </tr>\n",
       "    <tr>\n",
       "      <th>2608</th>\n",
       "      <td>'#SecKerry: Thanks to Senator @TimKaine, @RepR...</td>\n",
       "      <td>1</td>\n",
       "    </tr>\n",
       "    <tr>\n",
       "      <th>2609</th>\n",
       "      <td>Here's a picture from our official Pinterest a...</td>\n",
       "      <td>1</td>\n",
       "    </tr>\n",
       "  </tbody>\n",
       "</table>\n",
       "<p>2610 rows × 2 columns</p>\n",
       "</div>"
      ],
      "text/plain": [
       "                                              TweetText  Label\n",
       "0     '28. The home side threaten again through Maso...      0\n",
       "1     '@mrbrown @aulia Thx for asking. See http://t....      1\n",
       "2     '@Sochi2014 construction along the shores of t...      1\n",
       "3     '#SecKerry\\u2019s remarks after meeting with F...      1\n",
       "4     'The #IPLauction has begun. Ricky Ponting is t...      0\n",
       "...                                                 ...    ...\n",
       "2605  'Qualifier 1 and Eliminator games will be play...      0\n",
       "2606  @reesedward Hi Edward, it's not a #peacekeepin...      0\n",
       "2607  'Perera was @SunRisersIPL first #IPL purchase ...      0\n",
       "2608  '#SecKerry: Thanks to Senator @TimKaine, @RepR...      1\n",
       "2609  Here's a picture from our official Pinterest a...      1\n",
       "\n",
       "[2610 rows x 2 columns]"
      ]
     },
     "execution_count": 72,
     "metadata": {},
     "output_type": "execute_result"
    }
   ],
   "source": [
    "test_data = pd.read_csv('test.csv')\n",
    "\n",
    "test_data['Prepro_TweetText'] = test_data['TweetText'].apply(PreprocessingTweet)\n",
    "\n",
    "test_data['Label'] = 'Politics'  \n",
    "\n",
    "test_data['Label'] = MultinomialNB_model.predict(test_data['Prepro_TweetText'])\n",
    "\n",
    "test_data[['TweetText', 'Label']]\n"
   ]
  },
  {
   "cell_type": "code",
   "execution_count": 67,
   "id": "3893947b",
   "metadata": {},
   "outputs": [],
   "source": [
    "# Map encoded labels to class names\n",
    "label_map = {0: 'Sports', 1: 'Politics'}\n",
    "test_data['Label'] = test_data['Label'].map(label_map)"
   ]
  },
  {
   "cell_type": "code",
   "execution_count": 69,
   "id": "cbd704ef",
   "metadata": {},
   "outputs": [
    {
     "data": {
      "text/html": [
       "<div>\n",
       "<style scoped>\n",
       "    .dataframe tbody tr th:only-of-type {\n",
       "        vertical-align: middle;\n",
       "    }\n",
       "\n",
       "    .dataframe tbody tr th {\n",
       "        vertical-align: top;\n",
       "    }\n",
       "\n",
       "    .dataframe thead th {\n",
       "        text-align: right;\n",
       "    }\n",
       "</style>\n",
       "<table border=\"1\" class=\"dataframe\">\n",
       "  <thead>\n",
       "    <tr style=\"text-align: right;\">\n",
       "      <th></th>\n",
       "      <th>TweetText</th>\n",
       "      <th>Label</th>\n",
       "    </tr>\n",
       "  </thead>\n",
       "  <tbody>\n",
       "    <tr>\n",
       "      <th>0</th>\n",
       "      <td>'28. The home side threaten again through Maso...</td>\n",
       "      <td>Sports</td>\n",
       "    </tr>\n",
       "    <tr>\n",
       "      <th>1</th>\n",
       "      <td>'@mrbrown @aulia Thx for asking. See http://t....</td>\n",
       "      <td>Politics</td>\n",
       "    </tr>\n",
       "    <tr>\n",
       "      <th>2</th>\n",
       "      <td>'@Sochi2014 construction along the shores of t...</td>\n",
       "      <td>Politics</td>\n",
       "    </tr>\n",
       "    <tr>\n",
       "      <th>3</th>\n",
       "      <td>'#SecKerry\\u2019s remarks after meeting with F...</td>\n",
       "      <td>Politics</td>\n",
       "    </tr>\n",
       "    <tr>\n",
       "      <th>4</th>\n",
       "      <td>'The #IPLauction has begun. Ricky Ponting is t...</td>\n",
       "      <td>Sports</td>\n",
       "    </tr>\n",
       "    <tr>\n",
       "      <th>...</th>\n",
       "      <td>...</td>\n",
       "      <td>...</td>\n",
       "    </tr>\n",
       "    <tr>\n",
       "      <th>2605</th>\n",
       "      <td>'Qualifier 1 and Eliminator games will be play...</td>\n",
       "      <td>Sports</td>\n",
       "    </tr>\n",
       "    <tr>\n",
       "      <th>2606</th>\n",
       "      <td>@reesedward Hi Edward, it's not a #peacekeepin...</td>\n",
       "      <td>Sports</td>\n",
       "    </tr>\n",
       "    <tr>\n",
       "      <th>2607</th>\n",
       "      <td>'Perera was @SunRisersIPL first #IPL purchase ...</td>\n",
       "      <td>Sports</td>\n",
       "    </tr>\n",
       "    <tr>\n",
       "      <th>2608</th>\n",
       "      <td>'#SecKerry: Thanks to Senator @TimKaine, @RepR...</td>\n",
       "      <td>Politics</td>\n",
       "    </tr>\n",
       "    <tr>\n",
       "      <th>2609</th>\n",
       "      <td>Here's a picture from our official Pinterest a...</td>\n",
       "      <td>Politics</td>\n",
       "    </tr>\n",
       "  </tbody>\n",
       "</table>\n",
       "<p>2610 rows × 2 columns</p>\n",
       "</div>"
      ],
      "text/plain": [
       "                                              TweetText     Label\n",
       "0     '28. The home side threaten again through Maso...    Sports\n",
       "1     '@mrbrown @aulia Thx for asking. See http://t....  Politics\n",
       "2     '@Sochi2014 construction along the shores of t...  Politics\n",
       "3     '#SecKerry\\u2019s remarks after meeting with F...  Politics\n",
       "4     'The #IPLauction has begun. Ricky Ponting is t...    Sports\n",
       "...                                                 ...       ...\n",
       "2605  'Qualifier 1 and Eliminator games will be play...    Sports\n",
       "2606  @reesedward Hi Edward, it's not a #peacekeepin...    Sports\n",
       "2607  'Perera was @SunRisersIPL first #IPL purchase ...    Sports\n",
       "2608  '#SecKerry: Thanks to Senator @TimKaine, @RepR...  Politics\n",
       "2609  Here's a picture from our official Pinterest a...  Politics\n",
       "\n",
       "[2610 rows x 2 columns]"
      ]
     },
     "execution_count": 69,
     "metadata": {},
     "output_type": "execute_result"
    }
   ],
   "source": [
    "test_data[['TweetText', 'Label']]"
   ]
  },
  {
   "cell_type": "code",
   "execution_count": null,
   "id": "3ba013cd",
   "metadata": {},
   "outputs": [],
   "source": []
  }
 ],
 "metadata": {
  "kernelspec": {
   "display_name": "Python 3 (ipykernel)",
   "language": "python",
   "name": "python3"
  },
  "language_info": {
   "codemirror_mode": {
    "name": "ipython",
    "version": 3
   },
   "file_extension": ".py",
   "mimetype": "text/x-python",
   "name": "python",
   "nbconvert_exporter": "python",
   "pygments_lexer": "ipython3",
   "version": "3.9.13"
  }
 },
 "nbformat": 4,
 "nbformat_minor": 5
}
